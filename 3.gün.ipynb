{
 "cells": [
  {
   "cell_type": "markdown",
   "id": "fc99460b-c90e-48a9-856e-b835877c491b",
   "metadata": {},
   "source": [
    "# HEASAP MAKİNASI"
   ]
  },
  {
   "cell_type": "code",
   "execution_count": null,
   "id": "0b47ed6f-b1c4-4daa-8d21-d2a0000ef44a",
   "metadata": {},
   "outputs": [],
   "source": [
    "x= int(input(\"sayıyı giriniz\"))\n",
    "y=int(input(\"sayıyı giriniz\"))\n",
    "islem=input(\"Yapmak istediğiniz işlemi seçiniz(toplama:p,çıkarma:s,çarpma:m,bölme:d)\").lower()\n",
    "\n",
    "\n",
    "p=\"p\"\n",
    "s=\"s\"\n",
    "m=\"m\"\n",
    "d=\"d\"\n",
    "gecerli_islemler=[\"p\",\"s\",\"m\",\"d\"]\n",
    "if islem not in gecerli_islemler:\n",
    "  print(\"Lütfen bu ifadelerden birini seçiniz (toplama:p,çıkarma:s,çarpma:m,bölme:d)\")\n",
    "elif islem== p:\n",
    " print(\"Sonuç= \"+str(x+y))\n",
    "\n",
    "elif islem== s:\n",
    " print(\"Sonuç= \"+str(x-y))\n",
    "\n",
    "elif islem== m:\n",
    " print(\"Sonuç= \"+str(x*y))\n",
    "\n",
    "elif islem== d:\n",
    " print(\"Sonuç= \"+str(x/y))\n",
    "\n",
    "\n"
   ]
  },
  {
   "cell_type": "code",
   "execution_count": null,
   "id": "b71e6ef5-d30a-4693-a59b-57199b4240f6",
   "metadata": {},
   "outputs": [],
   "source": []
  },
  {
   "cell_type": "code",
   "execution_count": null,
   "id": "fa20c825-caa3-4f8e-a3d9-2af1ccf2bc6d",
   "metadata": {},
   "outputs": [],
   "source": []
  }
 ],
 "metadata": {
  "kernelspec": {
   "display_name": "Python [conda env:base] *",
   "language": "python",
   "name": "conda-base-py"
  },
  "language_info": {
   "codemirror_mode": {
    "name": "ipython",
    "version": 3
   },
   "file_extension": ".py",
   "mimetype": "text/x-python",
   "name": "python",
   "nbconvert_exporter": "python",
   "pygments_lexer": "ipython3",
   "version": "3.12.7"
  }
 },
 "nbformat": 4,
 "nbformat_minor": 5
}
